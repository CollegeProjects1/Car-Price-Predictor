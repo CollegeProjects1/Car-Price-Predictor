{
 "cells": [
  {
   "cell_type": "code",
   "execution_count": 1,
   "id": "1e378b95",
   "metadata": {},
   "outputs": [],
   "source": [
    "import pickle\n",
    "import pandas as pd\n",
    "import numpy as np\n",
    "data1=pd.read_csv(\"PreProcessedData.csv\")\n",
    "model=pickle.load(open('LinearRegressionModelFinal.pkl','rb'))"
   ]
  },
  {
   "cell_type": "code",
   "execution_count": 4,
   "id": "6d333a79",
   "metadata": {},
   "outputs": [],
   "source": [
    "prediction=model.predict(pd.DataFrame([[2000000,2015,90000,12.2]],columns=['new-price','year','km_driven','mileage']))"
   ]
  },
  {
   "cell_type": "code",
   "execution_count": 6,
   "id": "3ee0fe75",
   "metadata": {},
   "outputs": [
    {
     "name": "stdout",
     "output_type": "stream",
     "text": [
      "920162.260362789\n"
     ]
    }
   ],
   "source": [
    "print(str(prediction[0]))"
   ]
  },
  {
   "cell_type": "code",
   "execution_count": null,
   "id": "ba694568",
   "metadata": {},
   "outputs": [],
   "source": []
  }
 ],
 "metadata": {
  "kernelspec": {
   "display_name": "Python 3",
   "language": "python",
   "name": "python3"
  },
  "language_info": {
   "codemirror_mode": {
    "name": "ipython",
    "version": 3
   },
   "file_extension": ".py",
   "mimetype": "text/x-python",
   "name": "python",
   "nbconvert_exporter": "python",
   "pygments_lexer": "ipython3",
   "version": "3.11.1"
  },
  "vscode": {
   "interpreter": {
    "hash": "7e5d8a5ccdc9cc2fcb660ade00fac7fbc57fba405d09d77021876d202efcc6d9"
   }
  }
 },
 "nbformat": 4,
 "nbformat_minor": 5
}
